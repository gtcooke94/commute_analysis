{
 "cells": [
  {
   "cell_type": "code",
   "execution_count": 1,
   "metadata": {
    "collapsed": true
   },
   "outputs": [],
   "source": [
    "import pandas as pd\n",
    "import matplotlib\n",
    "import matplotlib.pyplot as plt\n"
   ]
  },
  {
   "cell_type": "code",
   "execution_count": 2,
   "metadata": {
    "collapsed": true
   },
   "outputs": [],
   "source": [
    "strava_data = pd.read_csv('raw_strava_data.csv')"
   ]
  },
  {
   "cell_type": "code",
   "execution_count": 83,
   "metadata": {
    "collapsed": true
   },
   "outputs": [],
   "source": [
    "# Convert data to usable things\n",
    "strava_data['elapsed_time'] = pd.to_timedelta(strava_data['elapsed_time'])\n",
    "            \n",
    "strava_data['moving_time'] = pd.to_timedelta(strava_data['moving_time'])\n",
    "\n",
    "strava_data['start_date_local'] = pd.to_datetime(strava_data['start_date_local'])\n",
    "\n",
    "strava_data.sort_values(by='start_date_local', inplace=True)"
   ]
  },
  {
   "cell_type": "code",
   "execution_count": 99,
   "metadata": {
    "collapsed": true
   },
   "outputs": [],
   "source": [
    "morning_mask = strava_data['start_date_local'].dt.hour < 10\n",
    "evening_mask = strava_data['start_date_local'].dt.hour > 13\n",
    "weekday_mask = strava_data['start_date_local'].dt.weekday < 5"
   ]
  },
  {
   "cell_type": "code",
   "execution_count": 100,
   "metadata": {
    "collapsed": true
   },
   "outputs": [],
   "source": [
    "morning_commutes = strava_data[morning_mask & weekday_mask]\n",
    "evening_commutes = strava_data[evening_mask & weekday_mask]"
   ]
  },
  {
   "cell_type": "code",
   "execution_count": 101,
   "metadata": {},
   "outputs": [
    {
     "data": {
      "image/png": "[encoded data removed]",
      "text/plain": [
       "<matplotlib.figure.Figure at 0x1df988ef240>"
      ]
     },
     "metadata": {},
     "output_type": "display_data"
    }
   ],
   "source": [
    "(evening_commutes['moving_time'] / pd.Timedelta(minutes=1)).plot()\n",
    "plt.show()"
   ]
  },
  {
   "cell_type": "code",
   "execution_count": 94,
   "metadata": {},
   "outputs": [
    {
     "data": {
      "text/plain": [
       "array(['33.78,-84.39', '33.77,-84.4', '33.77,-84.4', '33.77,-84.4',\n",
       "       '33.78,-84.39', '33.77,-84.4', '33.79,-84.4', '33.77,-84.4',\n",
       "       '33.79,-84.4', '33.79,-84.4', '33.79,-84.4', '33.79,-84.4',\n",
       "       '33.79,-84.4', '33.79,-84.4', '33.78,-84.4', '33.78,-84.39',\n",
       "       '33.78,-84.4', '33.79,-84.4', '33.78,-84.4', '33.78,-84.4',\n",
       "       '33.78,-84.4', '33.78,-84.39', '33.78,-84.4', '33.78,-84.4',\n",
       "       '33.79,-84.4', '33.79,-84.4', '33.78,-84.4', '33.78,-84.4',\n",
       "       '33.79,-84.4', '33.79,-84.4', '33.77,-84.4', '33.78,-84.4',\n",
       "       '33.79,-84.4', '33.79,-84.4', '33.79,-84.4', '33.78,-84.4',\n",
       "       '33.78,-84.4', '33.78,-84.4', '33.78,-84.4', '33.78,-84.4',\n",
       "       '33.78,-84.4', '33.79,-84.4', '33.79,-84.4', '33.78,-84.4',\n",
       "       '33.78,-84.4'], dtype=object)"
      ]
     },
     "execution_count": 94,
     "metadata": {},
     "output_type": "execute_result"
    }
   ],
   "source": [
    "morning_commutes['end_latlng'].values"
   ]
  },
  {
   "cell_type": "code",
   "execution_count": 95,
   "metadata": {},
   "outputs": [
    {
     "data": {
      "text/plain": [
       "98    33.78,-84.39\n",
       "97     33.77,-84.4\n",
       "95     33.77,-84.4\n",
       "91     33.77,-84.4\n",
       "89    33.78,-84.39\n",
       "87     33.77,-84.4\n",
       "85     33.79,-84.4\n",
       "83     33.77,-84.4\n",
       "81     33.79,-84.4\n",
       "77     33.79,-84.4\n",
       "75     33.79,-84.4\n",
       "73     33.79,-84.4\n",
       "71     33.79,-84.4\n",
       "69     33.79,-84.4\n",
       "67     33.78,-84.4\n",
       "65    33.78,-84.39\n",
       "63     33.78,-84.4\n",
       "61     33.79,-84.4\n",
       "57     33.78,-84.4\n",
       "54     33.78,-84.4\n",
       "52     33.78,-84.4\n",
       "50    33.78,-84.39\n",
       "48     33.78,-84.4\n",
       "46     33.78,-84.4\n",
       "44     33.79,-84.4\n",
       "42     33.79,-84.4\n",
       "40     33.78,-84.4\n",
       "38     33.78,-84.4\n",
       "37     33.79,-84.4\n",
       "35     33.79,-84.4\n",
       "33     33.77,-84.4\n",
       "31     33.78,-84.4\n",
       "26     33.79,-84.4\n",
       "24     33.79,-84.4\n",
       "22     33.79,-84.4\n",
       "20     33.78,-84.4\n",
       "18     33.78,-84.4\n",
       "16     33.78,-84.4\n",
       "14     33.78,-84.4\n",
       "12     33.78,-84.4\n",
       "11     33.78,-84.4\n",
       "9      33.79,-84.4\n",
       "5      33.79,-84.4\n",
       "3      33.78,-84.4\n",
       "1      33.78,-84.4\n",
       "Name: end_latlng, dtype: object"
      ]
     },
     "execution_count": 95,
     "metadata": {},
     "output_type": "execute_result"
    }
   ],
   "source": [
    "morning_commutes['end_latlng']"
   ]
  }
 ],
 "metadata": {
  "kernelspec": {
   "display_name": "Python 3",
   "language": "python",
   "name": "python3"
  },
  "language_info": {
   "codemirror_mode": {
    "name": "ipython",
    "version": 3
   },
   "file_extension": ".py",
   "mimetype": "text/x-python",
   "name": "python",
   "nbconvert_exporter": "python",
   "pygments_lexer": "ipython3",
   "version": "3.6.3"
  }
 },
 "nbformat": 4,
 "nbformat_minor": 2
}
