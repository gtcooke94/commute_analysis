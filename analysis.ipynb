{
 "cells": [
  {
   "cell_type": "code",
   "execution_count": 1,
   "metadata": {},
   "outputs": [
    {
     "name": "stderr",
     "output_type": "stream",
     "text": [
      "/usr/lib/python3/dist-packages/matplotlib/font_manager.py:273: UserWarning: Matplotlib is building the font cache using fc-list. This may take a moment.\n",
      "  warnings.warn('Matplotlib is building the font cache using fc-list. This may take a moment.')\n",
      "/usr/lib/python3/dist-packages/matplotlib/font_manager.py:273: UserWarning: Matplotlib is building the font cache using fc-list. This may take a moment.\n",
      "  warnings.warn('Matplotlib is building the font cache using fc-list. This may take a moment.')\n"
     ]
    }
   ],
   "source": [
    "import pandas as pd\n",
    "import matplotlib\n",
    "import matplotlib.pyplot as plt\n",
    "import ast"
   ]
  },
  {
   "cell_type": "code",
   "execution_count": 152,
   "metadata": {},
   "outputs": [
    {
     "name": "stderr",
     "output_type": "stream",
     "text": [
      "/usr/local/lib/python3.5/dist-packages/ipython-6.4.0-py3.5.egg/IPython/core/interactiveshell.py:2963: PerformanceWarning: \n",
      "your performance may suffer as PyTables will pickle object types that it cannot\n",
      "map directly to c-types [inferred_type->mixed,key->block4_values] [items->['start_date', 'timezone', 'athlete', 'map', 'end_latlng', 'external_id', 'type', 'name', 'device_watts', 'start_latlng']]\n",
      "\n",
      "  exec(code_obj, self.user_global_ns, self.user_ns)\n"
     ]
    }
   ],
   "source": [
    "## Convert csv to h5 and store\n",
    "# h5 reference: https://realpython.com/fast-flexible-pandas/#selecting-data-with-isin\n",
    "\n",
    "strava_data = pd.read_csv('raw_strava_data.csv')\n",
    "# Convert data to usable things\n",
    "strava_data['elapsed_time'] = pd.to_timedelta(strava_data['elapsed_time'])\n",
    "            \n",
    "strava_data['moving_time'] = pd.to_timedelta(strava_data['moving_time'])\n",
    "\n",
    "strava_data['start_date_local'] = pd.to_datetime(strava_data['start_date_local'])\n",
    "\n",
    "# The map dictionary is a string coming from the csv\n",
    "strava_data[\"map\"] = strava_data['map'].apply(ast.literal_eval)\n",
    "\n",
    "# Create storage object with filename `processed_data`\n",
    "data_store = pd.HDFStore('strava_data.h5')\n",
    "\n",
    "# Put DataFrame into the object setting the key as 'preprocessed_df'\n",
    "data_store['strava_data'] = strava_data\n",
    "data_store.close()"
   ]
  },
  {
   "cell_type": "code",
   "execution_count": 149,
   "metadata": {},
   "outputs": [],
   "source": [
    "# Access data store\n",
    "strava_data_h5 = pd.HDFStore('strava_data.h5')\n",
    "\n",
    "# Retrieve data using key\n",
    "strava_data = strava_data_h5['strava_data']\n",
    "strava_data_h5.close()"
   ]
  },
  {
   "cell_type": "code",
   "execution_count": 22,
   "metadata": {},
   "outputs": [],
   "source": [
    "morning_mask = strava_data['start_date_local'].dt.hour < 10\n",
    "evening_mask = strava_data['start_date_local'].dt.hour > 13 \n",
    "weekday_mask = strava_data['start_date_local'].dt.weekday < 5\n"
   ]
  },
  {
   "cell_type": "code",
   "execution_count": 103,
   "metadata": {},
   "outputs": [],
   "source": [
    "morning_mask = strava_data['start_date_local'].dt.hour.isin(range(7, 11))\n",
    "evening_mask = strava_data['start_date_local'].dt.hour.isin(range(14, 20))\n",
    "weekday_mask = strava_data['start_date_local'].dt.weekday.isin(range(0, 5))\n",
    "normal_time_mask = ((strava_data['moving_time'].dt.seconds / 60) > 10) & ((strava_data['moving_time'].dt.seconds / 60) < 30)"
   ]
  },
  {
   "cell_type": "code",
   "execution_count": 104,
   "metadata": {},
   "outputs": [],
   "source": [
    "morning_commutes = strava_data[morning_mask & weekday_mask & normal_time_mask]\n",
    "evening_commutes = strava_data[evening_mask & weekday_mask & normal_time_mask]"
   ]
  },
  {
   "cell_type": "code",
   "execution_count": 106,
   "metadata": {
    "scrolled": true
   },
   "outputs": [
    {
     "data": {
      "image/png": "[encoded data removed]",
      "text/plain": [
       "<matplotlib.figure.Figure at 0x7fb756052898>"
      ]
     },
     "metadata": {},
     "output_type": "display_data"
    }
   ],
   "source": [
    "(evening_commutes['moving_time'] / pd.Timedelta(minutes=1)).plot()\n",
    "plt.show()"
   ]
  },
  {
   "cell_type": "code",
   "execution_count": 107,
   "metadata": {},
   "outputs": [
    {
     "data": {
      "image/png": "[encoded data removed]",
      "text/plain": [
       "<matplotlib.figure.Figure at 0x7fb756084278>"
      ]
     },
     "metadata": {},
     "output_type": "display_data"
    }
   ],
   "source": [
    "to_plot = evening_commutes.copy()\n",
    "to_plot['moving_time'] = to_plot.loc[:,'moving_time'] / pd.Timedelta(minutes=1)\n",
    "plt.scatter(to_plot['start_date_local'].dt.to_pydatetime(), to_plot['moving_time'])\n",
    "plt.show()"
   ]
  },
  {
   "cell_type": "code",
   "execution_count": 157,
   "metadata": {},
   "outputs": [],
   "source": [
    "pl = strava_data['map'][1][\"summary_polyline\"]"
   ]
  },
  {
   "cell_type": "code",
   "execution_count": 158,
   "metadata": {},
   "outputs": [
    {
     "data": {
      "text/plain": [
       "[(33.77472, -84.38523),\n",
       " (33.77404, -84.38491),\n",
       " (33.77608, -84.38451),\n",
       " (33.77591, -84.37994),\n",
       " (33.78181, -84.37931),\n",
       " (33.7819, -84.36856),\n",
       " (33.77859, -84.36603),\n",
       " (33.7718, -84.36414)]"
      ]
     },
     "execution_count": 158,
     "metadata": {},
     "output_type": "execute_result"
    }
   ],
   "source": [
    "import polyline\n"
   ]
  },
  {
   "cell_type": "code",
   "execution_count": 171,
   "metadata": {},
   "outputs": [
    {
     "ename": "NameError",
     "evalue": "name 'unzip' is not defined",
     "output_type": "error",
     "traceback": [
      "\u001b[0;31m---------------------------------------------------------------------------\u001b[0m",
      "\u001b[0;31mNameError\u001b[0m                                 Traceback (most recent call last)",
      "\u001b[0;32m<ipython-input-171-0d5895567cdb>\u001b[0m in \u001b[0;36m<module>\u001b[0;34m()\u001b[0m\n\u001b[0;32m----> 1\u001b[0;31m \u001b[0munzip\u001b[0m\u001b[0;34m(\u001b[0m\u001b[0mtest\u001b[0m\u001b[0;34m)\u001b[0m\u001b[0;34m\u001b[0m\u001b[0m\n\u001b[0m",
      "\u001b[0;31mNameError\u001b[0m: name 'unzip' is not defined"
     ]
    }
   ],
   "source": [
    "unzip(test)"
   ]
  },
  {
   "cell_type": "code",
   "execution_count": 159,
   "metadata": {},
   "outputs": [
    {
     "data": {
      "text/plain": [
       "[<matplotlib.lines.Line2D at 0x7fb755d57080>,\n",
       " <matplotlib.lines.Line2D at 0x7fb755d57278>]"
      ]
     },
     "execution_count": 159,
     "metadata": {},
     "output_type": "execute_result"
    },
    {
     "data": {
      "image/png": "[encoded data removed]",
      "text/plain": [
       "<matplotlib.figure.Figure at 0x7fb755d84be0>"
      ]
     },
     "metadata": {},
     "output_type": "display_data"
    }
   ],
   "source": [
    "test = polyline.decode(pl)\n",
    "plt.plot(test)"
   ]
  },
  {
   "cell_type": "code",
   "execution_count": 141,
   "metadata": {},
   "outputs": [
    {
     "data": {
      "text/plain": [
       "0      {'summary_polyline': None, 'id': 'a1723496246'...\n",
       "1      {'summary_polyline': '_scmEtn`bOfC_AwKoA`@q[{c...\n",
       "2      {'summary_polyline': 'elbmEf_|aOcOhIum@xKqS~NH...\n",
       "3      {'summary_polyline': 'gpemEhmbbOj@z@oCkA~@u@e@...\n",
       "4      {'summary_polyline': 'clbmEd_|aOcPnIen@dLqRbNJ...\n",
       "5      {'summary_polyline': 'epemEvlbbOoJS{@wk@j@_SwA...\n",
       "6      {'summary_polyline': '_acmExj|aO{g@|I{T`ODnYiC...\n",
       "7      {'summary_polyline': '_~_mElzbbOkD_NaKeP}Lq@Vo...\n",
       "8      {'summary_polyline': 'albmEd_|aOaBRxLwLnO_CUcL...\n",
       "9      {'summary_polyline': 'wvemEnmbbOmD]Uod@sBwGlAc...\n",
       "10     {'summary_polyline': 'elbmEd_|aOyOlIol@hKmS|MO...\n",
       "11     {'summary_polyline': '{qemE`kbbOt@zA_ILuA_KDc\\...\n",
       "12     {'summary_polyline': '}kbmEh_|aOoPlIwk@bKuL`Hk...\n",
       "13     {'summary_polyline': 'ewemEnmbbOiCOUoc@{A}Fv@@...\n",
       "14     {'summary_polyline': 'mlbmEd_|aOgP|Iel@bK}SlNJ...\n",
       "15     {'summary_polyline': '}ncmEvl`bOaLmAj@s[wc@_CS...\n",
       "16     {'summary_polyline': 'clbmEd_|aOoSlKai@rIkTdOX...\n",
       "17     {'summary_polyline': 'ouemE~lbbOyDAc@iNu@gv@fB...\n",
       "18     {'summary_polyline': '}kbmEf_|aOaVpK}f@lIwSpN[...\n",
       "19     {'summary_polyline': '_xemE`nbbOp@UcDASyf@oAiI...\n",
       "20     {'summary_polyline': 'ilbmEd_|aOwUxKeg@jIaSvMG...\n",
       "21     {'summary_polyline': '}kbmEf_|aOuQ`J}l@tK_QnL]...\n",
       "22     {'summary_polyline': '_pemEbobbOcA{@zHtAaCnBp@...\n",
       "23     {'summary_polyline': 'glbmEd_|aOePrIom@zKoRnME...\n",
       "24     {'summary_polyline': 'asemEnpbbOsHsAv@fDvRw@xA...\n",
       "25     {'summary_polyline': 'elbmEd_|aOyOrIwl@nKyShNB...\n",
       "26     {'summary_polyline': 'yvemEzlbbOyDRf@~CfRMhC_G...\n",
       "27     {'summary_polyline': 'albmEb_|aOmPrIok@dKkThNG...\n",
       "28     {'summary_polyline': 'evemEjlbbOaETXzCrSa@xA_F...\n",
       "29     {'summary_polyline': '}`cmEtj|aOah@dJwTvNBxYoD...\n",
       "                             ...                        \n",
       "78     {'summary_polyline': '_lbmEd_|aOgVrKmf@|HiT`OL...\n",
       "79     {'summary_polyline': 'o~cmEtubbO_HaAxEoETqk@p@...\n",
       "80     {'summary_polyline': '_lbmEd_|aO}OhImm@zKqSpNN...\n",
       "81     {'summary_polyline': 'ywcmEnsbbOdAQcDqN_E]GyU\\...\n",
       "82     {'summary_polyline': 'eacmEbk|aOeh@zIsT|NN`Z{C...\n",
       "83     {'summary_polyline': 'u}cmE|sbbOo@xAuGcBhFqE\\a...\n",
       "84     {'summary_polyline': 'elbmEf_|aOcUlKmf@pHmUhOL...\n",
       "85     {'summary_polyline': 'gwemElkbbO}CzAt@xMtn@b@f...\n",
       "86     {'summary_polyline': 'eacmEdk|aO_h@nIwTtNHnSa@...\n",
       "87     {'summary_polyline': '_scmEth`bOyAv@mEyAlBif@r...\n",
       "88     {'summary_polyline': '}_bmE`o}aOXt\\{E`Rsj@EeAx...\n",
       "89     {'summary_polyline': 'iyemE~mbbOeBj@dAlLlm@p@j...\n",
       "90     {'summary_polyline': '{`cmEvj|aOsd@nHcQvIaGxFb...\n",
       "91     {'summary_polyline': 'y_dmEztbbOXt@aHqApFwEP{k...\n",
       "92     {'summary_polyline': 'q`cmEdj|aOaj@`KqSdOT~aA`...\n",
       "93     {'summary_polyline': 'k`dmElwbbOmFgBbFkFj@}n@b...\n",
       "94     {'summary_polyline': 'aacmE|j|aOia@xFwZbQQtZqC...\n",
       "95     {'summary_polyline': 'iadmEjvbbOoEaAxEqCVeBDqk...\n",
       "96     {'summary_polyline': 'u`cmEhj|aOyh@pJuT|OHvaAj...\n",
       "97     {'summary_polyline': 'q`dmEtubbO}EkAfF}DBw`@^{...\n",
       "98     {'summary_polyline': '{`cmE|j|aOyi@jJeSbNDtSa@...\n",
       "99     {'summary_polyline': '_admEfvbbOsEiA`FaFhAef@m...\n",
       "100    {'summary_polyline': 'albmEf_|aOeSvJgi@~IsTlOF...\n",
       "101    {'summary_polyline': 'ibdmErvbbOl@JwE{A|EkET_p...\n",
       "102    {'summary_polyline': '_xemEjlbbOoBd@^rMxo@n@p@...\n",
       "103    {'summary_polyline': 'cycmErwbbOQgAcMa@yAzGsn@...\n",
       "104    {'summary_polyline': 'aacmEbk|aOkk@xJeR|MTrcAn...\n",
       "105    {'summary_polyline': '_~cmEtsbbO_BpBcFqAtF_FFo...\n",
       "106    {'summary_polyline': 's`cmElj|aO}i@vJsSpOLxbAd...\n",
       "107    {'summary_polyline': '_lbmEf_|aOkPpIgl@bKeTnNA...\n",
       "Name: map, dtype: object"
      ]
     },
     "execution_count": 141,
     "metadata": {},
     "output_type": "execute_result"
    }
   ],
   "source": [
    "# https://markhneedham.com/blog/2017/04/29/leaflet-strava-polylines-osm/\n",
    "# https://dzone.com/articles/strava-calculating-the-similarity-of-two-runs\n",
    "# http://bl.ocks.org/matt-leach/5336dc8249cf4401fc0f6b31743202e5\n",
    "# http://andykee.com/visualizing-strava-tracks-with-python.html\n",
    "# https://gis.stackexchange.com/questions/42224/creating-polyline-based-heatmap-from-gps-tracks"
   ]
  }
 ],
 "metadata": {
  "kernelspec": {
   "display_name": "Python 3",
   "language": "python",
   "name": "python3"
  },
  "language_info": {
   "codemirror_mode": {
    "name": "ipython",
    "version": 3
   },
   "file_extension": ".py",
   "mimetype": "text/x-python",
   "name": "python",
   "nbconvert_exporter": "python",
   "pygments_lexer": "ipython3",
   "version": "3.5.2"
  }
 },
 "nbformat": 4,
 "nbformat_minor": 2
}
