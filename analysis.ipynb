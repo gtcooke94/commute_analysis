{
 "cells": [
  {
   "cell_type": "code",
   "execution_count": 2,
   "metadata": {},
   "outputs": [
    {
     "ename": "ModuleNotFoundError",
     "evalue": "No module named 'strava_keys'",
     "output_type": "error",
     "traceback": [
      "\u001b[1;31m---------------------------------------------------------------------------\u001b[0m",
      "\u001b[1;31mModuleNotFoundError\u001b[0m                       Traceback (most recent call last)",
      "\u001b[1;32m<ipython-input-2-32be083bf398>\u001b[0m in \u001b[0;36m<module>\u001b[1;34m()\u001b[0m\n\u001b[0;32m      1\u001b[0m \u001b[1;31m# %load get_data.py\u001b[0m\u001b[1;33m\u001b[0m\u001b[1;33m\u001b[0m\u001b[0m\n\u001b[0;32m      2\u001b[0m \u001b[1;32mfrom\u001b[0m \u001b[0mstravalib\u001b[0m\u001b[1;33m.\u001b[0m\u001b[0mclient\u001b[0m \u001b[1;32mimport\u001b[0m \u001b[0mClient\u001b[0m\u001b[1;33m\u001b[0m\u001b[0m\n\u001b[1;32m----> 3\u001b[1;33m \u001b[1;32mfrom\u001b[0m \u001b[0mstrava_keys\u001b[0m \u001b[1;32mimport\u001b[0m \u001b[0mclient_id\u001b[0m\u001b[1;33m,\u001b[0m \u001b[0mclient_secret\u001b[0m\u001b[1;33m,\u001b[0m \u001b[0maccess_token\u001b[0m\u001b[1;33m\u001b[0m\u001b[0m\n\u001b[0m\u001b[0;32m      4\u001b[0m \u001b[1;32mimport\u001b[0m \u001b[0mcsv\u001b[0m\u001b[1;33m\u001b[0m\u001b[0m\n\u001b[0;32m      5\u001b[0m \u001b[1;32mimport\u001b[0m \u001b[0mpdb\u001b[0m\u001b[1;33m\u001b[0m\u001b[0m\n",
      "\u001b[1;31mModuleNotFoundError\u001b[0m: No module named 'strava_keys'"
     ]
    }
   ],
   "source": [
    "# %load get_data.py\n",
    "from stravalib.client import Client\n",
    "from strava_keys import client_id, client_secret, access_token\n",
    "import csv\n",
    "import pdb\n",
    "\n",
    "client = Client()\n",
    "authorize_url = client.authorization_url(client_id=client_id,\n",
    "        redirect_uri='http://localhost:8282/authorized')\n",
    "# Have the user click the authorization URL, a 'code' param will be added to the\n",
    "# redirect_uri\n",
    "# .....\n",
    "\n",
    "# Extract the code from your webapp response\n",
    "# code = request.get('code') # or whatever your framework does\n",
    "# access_token = client.exchange_code_for_token(client_id=22120,\n",
    "# client_secret='<client_secret>', code=code)\n",
    "\n",
    "activities = client.get_activities()\n",
    "with open('strava_data.csv', 'w') as f:\n",
    "    headers_written = False \n",
    "    for activity in activities:\n",
    "        temp = activity.to_dict()\n",
    "        if not headers_written:\n",
    "            w = csv.DictWriter(f, temp.keys())\n",
    "            headers_written = True\n",
    "        w.writeheader()\n",
    "        w.writerow(temp)\n",
    "\n",
    "# Get datetime from string. This is for later for updating the data\n",
    "# t = datetime.strptime(str, '%Y-%m-%dT%H:%M:%S')\n"
   ]
  },
  {
   "cell_type": "code",
   "execution_count": null,
   "metadata": {
    "collapsed": true
   },
   "outputs": [],
   "source": []
  }
 ],
 "metadata": {
  "kernelspec": {
   "display_name": "Python 3",
   "language": "python",
   "name": "python3"
  },
  "language_info": {
   "codemirror_mode": {
    "name": "ipython",
    "version": 3
   },
   "file_extension": ".py",
   "mimetype": "text/x-python",
   "name": "python",
   "nbconvert_exporter": "python",
   "pygments_lexer": "ipython3",
   "version": "3.6.3"
  }
 },
 "nbformat": 4,
 "nbformat_minor": 2
}
