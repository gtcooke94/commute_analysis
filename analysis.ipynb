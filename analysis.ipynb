{
 "cells": [
  {
   "cell_type": "code",
   "execution_count": 1,
   "metadata": {},
   "outputs": [],
   "source": [
    "import pandas as pd\n",
    "import matplotlib\n",
    "import matplotlib.pyplot as plt\n"
   ]
  },
  {
   "cell_type": "code",
   "execution_count": 2,
   "metadata": {},
   "outputs": [],
   "source": [
    "strava_data = pd.read_csv('strava_data.csv')"
   ]
  },
  {
   "cell_type": "code",
   "execution_count": 34,
   "metadata": {},
   "outputs": [],
   "source": [
    "strava_data['elapsed_time'] = pd.to_timedelta(strava_data['elapsed_time'])\n",
    "            \n",
    "strava_data['moving_time'] = pd.to_timedelta(strava_data['moving_time'])\n",
    "\n",
    "strava_data['start_date_local'] = pd.to_datetime(strava_data['start_date_local'])"
   ]
  },
  {
   "cell_type": "code",
   "execution_count": 35,
   "metadata": {},
   "outputs": [
    {
     "data": {
      "text/plain": [
       "0    2018-07-11 17:08:20\n",
       "1    2018-07-11 08:29:16\n",
       "2    2018-07-10 18:35:27\n",
       "3    2018-07-10 08:29:50\n",
       "4    2018-07-09 16:57:49\n",
       "5    2018-07-09 08:18:47\n",
       "6    2018-07-08 17:38:01\n",
       "7    2018-07-08 16:26:45\n",
       "8    2018-07-03 17:11:50\n",
       "9    2018-07-03 08:29:57\n",
       "10   2018-07-02 17:15:46\n",
       "11   2018-07-02 08:27:27\n",
       "12   2018-06-29 07:42:14\n",
       "13   2018-06-28 16:45:40\n",
       "14   2018-06-28 08:20:54\n",
       "15   2018-06-12 17:20:40\n",
       "16   2018-06-12 08:38:28\n",
       "17   2018-06-06 17:02:29\n",
       "18   2018-06-06 08:30:34\n",
       "19   2018-06-05 17:14:06\n",
       "20   2018-06-05 08:38:40\n",
       "21   2018-05-18 16:50:05\n",
       "22   2018-05-18 08:42:21\n",
       "23   2018-05-10 17:22:38\n",
       "24   2018-05-10 09:00:55\n",
       "25   2018-05-07 17:28:18\n",
       "26   2018-05-07 08:50:10\n",
       "27   2018-05-04 15:34:59\n",
       "28   2018-05-04 14:32:54\n",
       "29   2018-05-03 19:09:04\n",
       "             ...        \n",
       "69   2018-01-30 08:57:30\n",
       "70   2018-01-24 16:25:53\n",
       "71   2018-01-24 09:03:28\n",
       "72   2018-01-23 17:59:14\n",
       "73   2018-01-23 08:47:51\n",
       "74   2018-01-10 16:20:48\n",
       "75   2018-01-10 09:14:34\n",
       "76   2017-12-14 17:01:41\n",
       "77   2017-12-14 09:12:52\n",
       "78   2017-12-10 16:36:43\n",
       "79   2017-12-10 14:49:23\n",
       "80   2017-12-07 16:32:23\n",
       "81   2017-12-07 09:14:55\n",
       "82   2017-11-17 14:51:44\n",
       "83   2017-11-17 08:34:34\n",
       "84   2017-11-16 17:34:40\n",
       "85   2017-11-16 09:01:56\n",
       "86   2017-11-15 14:56:15\n",
       "87   2017-11-15 08:34:41\n",
       "88   2017-11-14 17:44:21\n",
       "89   2017-11-14 08:55:54\n",
       "90   2017-11-10 14:55:38\n",
       "91   2017-11-10 08:36:21\n",
       "92   2017-11-06 14:52:42\n",
       "93   2017-11-06 13:35:46\n",
       "94   2017-11-06 10:05:58\n",
       "95   2017-11-06 08:34:13\n",
       "96   2017-11-03 15:05:53\n",
       "97   2017-11-03 07:49:58\n",
       "98   2017-10-31 09:01:28\n",
       "Name: start_date_local, Length: 99, dtype: datetime64[ns]"
      ]
     },
     "execution_count": 35,
     "metadata": {},
     "output_type": "execute_result"
    }
   ],
   "source": [
    "strava_data['start_date_local']"
   ]
  },
  {
   "cell_type": "code",
   "execution_count": 18,
   "metadata": {},
   "outputs": [
    {
     "data": {
      "text/plain": [
       "<matplotlib.axes._subplots.AxesSubplot at 0x7efbd2436f98>"
      ]
     },
     "execution_count": 18,
     "metadata": {},
     "output_type": "execute_result"
    },
    {
     "data": {
      "image/png": "[encoded data removed]",
      "text/plain": [
       "<matplotlib.figure.Figure at 0x7efbccbf4668>"
      ]
     },
     "metadata": {},
     "output_type": "display_data"
    }
   ],
   "source": [
    "(strava_data['elapsed_time'] / pd.Timedelta(minutes=1)).plot()"
   ]
  },
  {
   "cell_type": "code",
   "execution_count": 14,
   "metadata": {
    "scrolled": true
   },
   "outputs": [
    {
     "data": {
      "text/plain": [
       "0     2018-07-11T21:08:20+00:00\n",
       "1     2018-07-11T12:29:16+00:00\n",
       "2     2018-07-10T22:35:27+00:00\n",
       "3     2018-07-10T12:29:50+00:00\n",
       "4     2018-07-09T20:57:49+00:00\n",
       "5     2018-07-09T12:18:47+00:00\n",
       "6     2018-07-08T21:38:01+00:00\n",
       "7     2018-07-08T20:26:45+00:00\n",
       "8     2018-07-03T21:11:50+00:00\n",
       "9     2018-07-03T12:29:57+00:00\n",
       "10    2018-07-02T21:15:46+00:00\n",
       "11    2018-07-02T12:27:27+00:00\n",
       "12    2018-06-29T11:42:14+00:00\n",
       "13    2018-06-28T20:45:40+00:00\n",
       "14    2018-06-28T12:20:54+00:00\n",
       "15    2018-06-12T21:20:40+00:00\n",
       "16    2018-06-12T12:38:28+00:00\n",
       "17    2018-06-06T21:02:29+00:00\n",
       "18    2018-06-06T12:30:34+00:00\n",
       "19    2018-06-05T21:14:06+00:00\n",
       "20    2018-06-05T12:38:40+00:00\n",
       "21    2018-05-18T20:50:05+00:00\n",
       "22    2018-05-18T12:42:21+00:00\n",
       "23    2018-05-10T21:22:38+00:00\n",
       "24    2018-05-10T13:00:55+00:00\n",
       "25    2018-05-07T21:28:18+00:00\n",
       "26    2018-05-07T12:50:10+00:00\n",
       "27    2018-05-04T19:34:59+00:00\n",
       "28    2018-05-04T18:32:54+00:00\n",
       "29    2018-05-03T23:09:04+00:00\n",
       "                ...            \n",
       "69    2018-01-30T13:57:30+00:00\n",
       "70    2018-01-24T21:25:53+00:00\n",
       "71    2018-01-24T14:03:28+00:00\n",
       "72    2018-01-23T22:59:14+00:00\n",
       "73    2018-01-23T13:47:51+00:00\n",
       "74    2018-01-10T21:20:48+00:00\n",
       "75    2018-01-10T14:14:34+00:00\n",
       "76    2017-12-14T22:01:41+00:00\n",
       "77    2017-12-14T14:12:52+00:00\n",
       "78    2017-12-10T21:36:43+00:00\n",
       "79    2017-12-10T19:49:23+00:00\n",
       "80    2017-12-07T21:32:23+00:00\n",
       "81    2017-12-07T14:14:55+00:00\n",
       "82    2017-11-17T19:51:44+00:00\n",
       "83    2017-11-17T13:34:34+00:00\n",
       "84    2017-11-16T22:34:40+00:00\n",
       "85    2017-11-16T14:01:56+00:00\n",
       "86    2017-11-15T19:56:15+00:00\n",
       "87    2017-11-15T13:34:41+00:00\n",
       "88    2017-11-14T22:44:21+00:00\n",
       "89    2017-11-14T13:55:54+00:00\n",
       "90    2017-11-10T19:55:38+00:00\n",
       "91    2017-11-10T13:36:21+00:00\n",
       "92    2017-11-06T19:52:42+00:00\n",
       "93    2017-11-06T18:35:46+00:00\n",
       "94    2017-11-06T15:05:58+00:00\n",
       "95    2017-11-06T13:34:13+00:00\n",
       "96    2017-11-03T19:05:53+00:00\n",
       "97    2017-11-03T11:49:58+00:00\n",
       "98    2017-10-31T13:01:28+00:00\n",
       "Name: start_date, Length: 99, dtype: object"
      ]
     },
     "execution_count": 14,
     "metadata": {},
     "output_type": "execute_result"
    }
   ],
   "source": [
    "strava_data['start_date']"
   ]
  },
  {
   "cell_type": "code",
   "execution_count": 19,
   "metadata": {
    "scrolled": true
   },
   "outputs": [
    {
     "data": {
      "text/plain": [
       "0     17.000000\n",
       "1     23.466667\n",
       "2     21.016667\n",
       "3     23.233333\n",
       "4     19.500000\n",
       "5     24.883333\n",
       "6     14.566667\n",
       "7     15.166667\n",
       "8     19.083333\n",
       "9     24.566667\n",
       "10    19.366667\n",
       "11    22.850000\n",
       "12    22.900000\n",
       "13    18.683333\n",
       "14    19.900000\n",
       "15    26.016667\n",
       "16    20.816667\n",
       "17    25.500000\n",
       "18    21.850000\n",
       "19    24.033333\n",
       "20    19.066667\n",
       "21    26.050000\n",
       "22    23.866667\n",
       "23    22.316667\n",
       "24    21.516667\n",
       "25    28.983333\n",
       "26    22.600000\n",
       "27    39.883333\n",
       "28    13.916667\n",
       "29    23.050000\n",
       "        ...    \n",
       "69    21.950000\n",
       "70    20.650000\n",
       "71    24.066667\n",
       "72    20.266667\n",
       "73    24.033333\n",
       "74    24.833333\n",
       "75    25.183333\n",
       "76    25.400000\n",
       "77    21.466667\n",
       "78    15.366667\n",
       "79    12.266667\n",
       "80    25.050000\n",
       "81    22.750000\n",
       "82    22.116667\n",
       "83    24.600000\n",
       "84    21.283333\n",
       "85    23.900000\n",
       "86    23.550000\n",
       "87    24.966667\n",
       "88    21.816667\n",
       "89    23.866667\n",
       "90    24.233333\n",
       "91    23.666667\n",
       "92    20.483333\n",
       "93     6.300000\n",
       "94     6.050000\n",
       "95    24.433333\n",
       "96    22.066667\n",
       "97    25.000000\n",
       "98    26.500000\n",
       "Name: elapsed_time, Length: 99, dtype: float64"
      ]
     },
     "execution_count": 19,
     "metadata": {},
     "output_type": "execute_result"
    }
   ],
   "source": [
    "(strava_data['elapsed_time'] / pd.Timedelta(minutes=1))"
   ]
  },
  {
   "cell_type": "code",
   "execution_count": 28,
   "metadata": {},
   "outputs": [
    {
     "data": {
      "text/html": [
       "<div>\n",
       "<style>\n",
       "    .dataframe thead tr:only-child th {\n",
       "        text-align: right;\n",
       "    }\n",
       "\n",
       "    .dataframe thead th {\n",
       "        text-align: left;\n",
       "    }\n",
       "\n",
       "    .dataframe tbody tr th {\n",
       "        vertical-align: top;\n",
       "    }\n",
       "</style>\n",
       "<table border=\"1\" class=\"dataframe\">\n",
       "  <thead>\n",
       "    <tr style=\"text-align: right;\">\n",
       "      <th></th>\n",
       "      <th>start_date_local</th>\n",
       "      <th>elapsed_time</th>\n",
       "      <th>moving_time</th>\n",
       "    </tr>\n",
       "  </thead>\n",
       "  <tbody>\n",
       "    <tr>\n",
       "      <th>0</th>\n",
       "      <td>2018-07-11T17:08:20</td>\n",
       "      <td>00:17:00</td>\n",
       "      <td>0:15:30</td>\n",
       "    </tr>\n",
       "    <tr>\n",
       "      <th>1</th>\n",
       "      <td>2018-07-11T08:29:16</td>\n",
       "      <td>00:23:28</td>\n",
       "      <td>0:20:33</td>\n",
       "    </tr>\n",
       "  </tbody>\n",
       "</table>\n",
       "</div>"
      ],
      "text/plain": [
       "      start_date_local elapsed_time moving_time\n",
       "0  2018-07-11T17:08:20     00:17:00     0:15:30\n",
       "1  2018-07-11T08:29:16     00:23:28     0:20:33"
      ]
     },
     "execution_count": 28,
     "metadata": {},
     "output_type": "execute_result"
    }
   ],
   "source": [
    "strava_data.head(2)[['start_date_local', 'elapsed_time', 'moving_time']]"
   ]
  },
  {
   "cell_type": "code",
   "execution_count": 27,
   "metadata": {},
   "outputs": [
    {
     "data": {
      "text/plain": [
       "Index(['index', 'athlete_count', 'distance', 'elev_high', 'athlete',\n",
       "       'location_city', 'trainer', 'average_watts', 'moving_time',\n",
       "       'segment_efforts', 'partner_logo_url', 'weighted_average_watts',\n",
       "       'highlighted_kudosers', 'name', 'gear_id', 'device_name',\n",
       "       'elapsed_time', 'splits_standard', 'start_date_local', 'comment_count',\n",
       "       'laps', 'private', 'segment_leaderboard_opt_out',\n",
       "       'instagram_primary_photo', 'max_speed', 'achievement_count',\n",
       "       'max_watts', 'average_speed', 'start_longitude', 'flagged',\n",
       "       'from_accepted_tag', 'manual', 'photo_count', 'total_photo_count',\n",
       "       'description', 'kudos_count', 'best_efforts', 'commute', 'device_watts',\n",
       "       'average_heartrate', 'pr_count', 'end_latlng', 'partner_brand_tag',\n",
       "       'splits_metric', 'total_elevation_gain', 'timezone', 'location_state',\n",
       "       'map', 'elev_low', 'type', 'upload_id', 'embed_token', 'workout_type',\n",
       "       'average_temp', 'has_kudoed', 'start_latitude', 'gear', 'external_id',\n",
       "       'kilojoules', 'utc_offset', 'calories', 'location_country',\n",
       "       'average_cadence', 'has_heartrate', 'suffer_score', 'max_heartrate',\n",
       "       'guid', 'start_latlng', 'photos', 'start_date'],\n",
       "      dtype='object')"
      ]
     },
     "execution_count": 27,
     "metadata": {},
     "output_type": "execute_result"
    }
   ],
   "source": [
    "strava_data.keys()"
   ]
  }
 ],
 "metadata": {
  "kernelspec": {
   "display_name": "Python 3",
   "language": "python",
   "name": "python3"
  },
  "language_info": {
   "codemirror_mode": {
    "name": "ipython",
    "version": 3
   },
   "file_extension": ".py",
   "mimetype": "text/x-python",
   "name": "python",
   "nbconvert_exporter": "python",
   "pygments_lexer": "ipython3",
   "version": "3.5.2"
  }
 },
 "nbformat": 4,
 "nbformat_minor": 2
}
