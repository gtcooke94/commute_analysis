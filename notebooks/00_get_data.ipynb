{
 "cells": [
  {
   "cell_type": "code",
   "execution_count": 33,
   "metadata": {
    "scrolled": true
   },
   "outputs": [
    {
     "name": "stdout",
     "output_type": "stream",
     "text": [
      "The autoreload extension is already loaded. To reload it, use:\n",
      "  %reload_ext autoreload\n"
     ]
    }
   ],
   "source": [
    "# OPTIONAL: Load the \"autoreload\" extension so that code can change\n",
    "%load_ext autoreload\n",
    "\n",
    "# OPTIONAL: always reload modules so that as you change code in src, it gets loaded\n",
    "%autoreload 2\n",
    "from src.data import make_dataset\n",
    "from dotenv import find_dotenv, load_dotenv\n",
    "import os\n",
    "from stravalib.client import Client\n",
    "import time\n",
    "import csv"
   ]
  },
  {
   "cell_type": "code",
   "execution_count": 53,
   "metadata": {},
   "outputs": [
    {
     "name": "stdout",
     "output_type": "stream",
     "text": [
      "https://www.strava.com/oauth/authorize?client_id=22120&redirect_uri=http%3A%2F%2Flocalhost%3A8282%2Fauthorized&approval_prompt=auto&response_type=code&scope=read%2Cactivity%3Aread\n"
     ]
    }
   ],
   "source": [
    "\"\"\"\n",
    "To get data we have to deal with OAuth\n",
    "1. Run this cell\n",
    "2. Click it's output\n",
    "3. Hit authorize\n",
    "4. Copy the \"code\" parameter in the redirect and paste it in the cell below\n",
    "5. Run the cell below\n",
    "6. To refresh, run the cell below that\n",
    "\"\"\"\n",
    "client = Client()\n",
    "authorize_url = client.authorization_url(client_id=22120, redirect_uri='http://localhost:8282/authorized')\n",
    "# Have the user click the authorization URL, a 'code' param will be added to the redirect_uri\n",
    "# .....\n",
    "print(authorize_url)\n"
   ]
  },
  {
   "cell_type": "code",
   "execution_count": 56,
   "metadata": {},
   "outputs": [
    {
     "name": "stdout",
     "output_type": "stream",
     "text": [
      "For 25983534, I now have an access token 963731c1306d483dd0a7ade62496aeb7b3e3868c\n"
     ]
    }
   ],
   "source": [
    "# Extract the code from your webapp response\n",
    "code = \"4f9497b3487b523145a7d9664a7a9e8b50c8c1a0\" # or whatever your framework does\n",
    "token_response = client.exchange_code_for_token(client_id=os.getenv(\"client_id\"), client_secret=os.getenv(\"client_secret\"), code=code)\n",
    "access_token = token_response['access_token']\n",
    "refresh_token = token_response['refresh_token']\n",
    "expires_at = token_response['expires_at']\n",
    "\n",
    "# Now store that short-lived access token somewhere (a database?)\n",
    "client.access_token = access_token\n",
    "# You must also store the refresh token to be used later on to obtain another valid access token \n",
    "# in case the current is already expired\n",
    "client.refresh_token = refresh_token\n",
    "\n",
    "# An access_token is only valid for 6 hours, store expires_at somewhere and\n",
    "# check it before making an API call.\n",
    "client.token_expires_at = expires_at\n",
    " \n",
    "athlete = client.get_athlete()\n",
    "print(\"For {id}, I now have an access token {token}\".format(id=athlete.id, token=access_token))\n",
    "\n"
   ]
  },
  {
   "cell_type": "code",
   "execution_count": null,
   "metadata": {},
   "outputs": [],
   "source": [
    "# ... time passes ...\n",
    "if time.time() > client.token_expires_at:\n",
    "    refresh_response = client.refresh_access_token(client_id=os.getenv(\"client_id\"), client_secret=os.getenv(\"client_secret\"),\n",
    "        refresh_token=client.refresh_token)\n",
    "    access_token = refresh_response['access_token']\n",
    "    refresh_token = refresh_response['refresh_token']\n",
    "    expires_at = refresh_response['expires_at']"
   ]
  },
  {
   "cell_type": "code",
   "execution_count": 82,
   "metadata": {},
   "outputs": [],
   "source": [
    "# Get the data\n",
    "activities = client.get_activities()\n",
    "types = ['time', 'latlng', 'altitude', 'heartrate', 'temp']\n",
    "headers_written = False\n",
    "#stream_types = ['time', 'latlng', 'altitude', 'heartrate', 'temp']\n",
    "stream_types = ['heartrate']\n",
    "w = None\n",
    "with open(os.path.join(\"/home/greg/repos/commute_analysis\", \"data\", \"raw\", 'raw_strava_data.csv'), 'w') as f:\n",
    "    for activity in activities:\n",
    "        streams = client.get_activity_streams(activity.id, types=stream_types, resolution='medium')\n",
    "        temp = activity.to_dict()\n",
    "        for k in types:\n",
    "            if streams and k in streams:\n",
    "                temp[k] = streams[k].data\n",
    "            elif k not in temp:\n",
    "                temp[k] = None\n",
    "        if not headers_written:\n",
    "            w = csv.DictWriter(f, temp.keys())\n",
    "            w.writeheader()\n",
    "            headers_written = True\n",
    "        w.writerow(temp)\n"
   ]
  },
  {
   "cell_type": "code",
   "execution_count": 89,
   "metadata": {},
   "outputs": [
    {
     "name": "stderr",
     "output_type": "stream",
     "text": [
      "/home/greg/.virtualenvs/commute_analysis/lib/python3.6/site-packages/ipykernel_launcher.py:1: PerformanceWarning: \n",
      "your performance may suffer as PyTables will pickle object types that it cannot\n",
      "map directly to c-types [inferred_type->mixed,key->block4_values] [items->['external_id', 'athlete', 'name', 'type', 'start_date', 'timezone', 'start_latlng', 'end_latlng', 'map', 'device_watts', 'from_accepted_tag', 'heartrate']]\n",
      "\n",
      "  \"\"\"Entry point for launching an IPython kernel.\n"
     ]
    }
   ],
   "source": [
    "make_dataset.convert_strava_data()"
   ]
  },
  {
   "cell_type": "code",
   "execution_count": 92,
   "metadata": {},
   "outputs": [],
   "source": [
    "dataset = make_dataset.load_strava_data()"
   ]
  },
  {
   "cell_type": "code",
   "execution_count": 96,
   "metadata": {},
   "outputs": [
    {
     "data": {
      "text/plain": [
       "Index(['guid', 'external_id', 'upload_id', 'athlete', 'name', 'distance',\n",
       "       'moving_time', 'elapsed_time', 'total_elevation_gain', 'elev_high',\n",
       "       'elev_low', 'type', 'start_date', 'start_date_local', 'timezone',\n",
       "       'utc_offset', 'start_latlng', 'end_latlng', 'location_city',\n",
       "       'location_state', 'location_country', 'start_latitude',\n",
       "       'start_longitude', 'achievement_count', 'pr_count', 'kudos_count',\n",
       "       'comment_count', 'athlete_count', 'photo_count', 'total_photo_count',\n",
       "       'map', 'trainer', 'commute', 'manual', 'private', 'flagged', 'gear_id',\n",
       "       'gear', 'average_speed', 'max_speed', 'device_watts', 'has_kudoed',\n",
       "       'best_efforts', 'segment_efforts', 'splits_metric', 'splits_standard',\n",
       "       'average_watts', 'weighted_average_watts', 'max_watts', 'suffer_score',\n",
       "       'has_heartrate', 'average_heartrate', 'max_heartrate',\n",
       "       'average_cadence', 'kilojoules', 'average_temp', 'device_name',\n",
       "       'embed_token', 'calories', 'description', 'workout_type', 'photos',\n",
       "       'instagram_primary_photo', 'partner_logo_url', 'partner_brand_tag',\n",
       "       'from_accepted_tag', 'segment_leaderboard_opt_out',\n",
       "       'highlighted_kudosers', 'laps', 'time', 'latlng', 'altitude',\n",
       "       'heartrate', 'temp', 'start_lat', 'start_lng', 'end_lat', 'end_lng'],\n",
       "      dtype='object')"
      ]
     },
     "execution_count": 96,
     "metadata": {},
     "output_type": "execute_result"
    }
   ],
   "source": [
    "dataset.columns"
   ]
  },
  {
   "cell_type": "code",
   "execution_count": 97,
   "metadata": {},
   "outputs": [
    {
     "data": {
      "text/html": [
       "<div>\n",
       "<style scoped>\n",
       "    .dataframe tbody tr th:only-of-type {\n",
       "        vertical-align: middle;\n",
       "    }\n",
       "\n",
       "    .dataframe tbody tr th {\n",
       "        vertical-align: top;\n",
       "    }\n",
       "\n",
       "    .dataframe thead th {\n",
       "        text-align: right;\n",
       "    }\n",
       "</style>\n",
       "<table border=\"1\" class=\"dataframe\">\n",
       "  <thead>\n",
       "    <tr style=\"text-align: right;\">\n",
       "      <th></th>\n",
       "      <th>start_date_local</th>\n",
       "      <th>start_longitude</th>\n",
       "      <th>start_lat</th>\n",
       "      <th>distance</th>\n",
       "      <th>elapsed_time</th>\n",
       "      <th>moving_time</th>\n",
       "    </tr>\n",
       "  </thead>\n",
       "  <tbody>\n",
       "    <tr>\n",
       "      <th>0</th>\n",
       "      <td>2020-01-10 17:23:16</td>\n",
       "      <td>-84.39</td>\n",
       "      <td>33.77708</td>\n",
       "      <td>4.643133</td>\n",
       "      <td>00:25:35</td>\n",
       "      <td>00:24:33</td>\n",
       "    </tr>\n",
       "    <tr>\n",
       "      <th>1</th>\n",
       "      <td>2020-01-10 09:38:20</td>\n",
       "      <td>-84.35</td>\n",
       "      <td>33.75095</td>\n",
       "      <td>4.544210</td>\n",
       "      <td>00:21:58</td>\n",
       "      <td>00:21:33</td>\n",
       "    </tr>\n",
       "    <tr>\n",
       "      <th>2</th>\n",
       "      <td>2020-01-08 19:04:24</td>\n",
       "      <td>-84.35</td>\n",
       "      <td>33.75097</td>\n",
       "      <td>1.740212</td>\n",
       "      <td>00:15:50</td>\n",
       "      <td>00:15:43</td>\n",
       "    </tr>\n",
       "    <tr>\n",
       "      <th>3</th>\n",
       "      <td>2020-01-07 17:57:20</td>\n",
       "      <td>-84.39</td>\n",
       "      <td>33.77708</td>\n",
       "      <td>4.671902</td>\n",
       "      <td>00:31:00</td>\n",
       "      <td>00:28:27</td>\n",
       "    </tr>\n",
       "    <tr>\n",
       "      <th>4</th>\n",
       "      <td>2020-01-07 09:32:00</td>\n",
       "      <td>-84.35</td>\n",
       "      <td>33.75090</td>\n",
       "      <td>1.208069</td>\n",
       "      <td>00:23:58</td>\n",
       "      <td>00:09:12</td>\n",
       "    </tr>\n",
       "    <tr>\n",
       "      <th>...</th>\n",
       "      <td>...</td>\n",
       "      <td>...</td>\n",
       "      <td>...</td>\n",
       "      <td>...</td>\n",
       "      <td>...</td>\n",
       "      <td>...</td>\n",
       "    </tr>\n",
       "    <tr>\n",
       "      <th>306</th>\n",
       "      <td>2017-11-06 10:05:58</td>\n",
       "      <td>-84.40</td>\n",
       "      <td>33.77570</td>\n",
       "      <td>1.047072</td>\n",
       "      <td>00:06:03</td>\n",
       "      <td>00:06:03</td>\n",
       "    </tr>\n",
       "    <tr>\n",
       "      <th>307</th>\n",
       "      <td>2017-11-06 08:34:13</td>\n",
       "      <td>-84.37</td>\n",
       "      <td>33.77185</td>\n",
       "      <td>3.683052</td>\n",
       "      <td>00:24:26</td>\n",
       "      <td>00:22:55</td>\n",
       "    </tr>\n",
       "    <tr>\n",
       "      <th>308</th>\n",
       "      <td>2017-11-03 15:05:53</td>\n",
       "      <td>-84.40</td>\n",
       "      <td>33.77648</td>\n",
       "      <td>3.659440</td>\n",
       "      <td>00:22:04</td>\n",
       "      <td>00:20:47</td>\n",
       "    </tr>\n",
       "    <tr>\n",
       "      <th>309</th>\n",
       "      <td>2017-11-03 07:49:58</td>\n",
       "      <td>-84.36</td>\n",
       "      <td>33.77178</td>\n",
       "      <td>3.555112</td>\n",
       "      <td>00:25:00</td>\n",
       "      <td>00:23:03</td>\n",
       "    </tr>\n",
       "    <tr>\n",
       "      <th>310</th>\n",
       "      <td>2017-10-31 09:01:28</td>\n",
       "      <td>-84.37</td>\n",
       "      <td>33.76848</td>\n",
       "      <td>3.590717</td>\n",
       "      <td>00:26:30</td>\n",
       "      <td>00:24:43</td>\n",
       "    </tr>\n",
       "  </tbody>\n",
       "</table>\n",
       "<p>311 rows × 6 columns</p>\n",
       "</div>"
      ],
      "text/plain": [
       "       start_date_local  start_longitude  start_lat  distance elapsed_time  \\\n",
       "0   2020-01-10 17:23:16           -84.39   33.77708  4.643133     00:25:35   \n",
       "1   2020-01-10 09:38:20           -84.35   33.75095  4.544210     00:21:58   \n",
       "2   2020-01-08 19:04:24           -84.35   33.75097  1.740212     00:15:50   \n",
       "3   2020-01-07 17:57:20           -84.39   33.77708  4.671902     00:31:00   \n",
       "4   2020-01-07 09:32:00           -84.35   33.75090  1.208069     00:23:58   \n",
       "..                  ...              ...        ...       ...          ...   \n",
       "306 2017-11-06 10:05:58           -84.40   33.77570  1.047072     00:06:03   \n",
       "307 2017-11-06 08:34:13           -84.37   33.77185  3.683052     00:24:26   \n",
       "308 2017-11-03 15:05:53           -84.40   33.77648  3.659440     00:22:04   \n",
       "309 2017-11-03 07:49:58           -84.36   33.77178  3.555112     00:25:00   \n",
       "310 2017-10-31 09:01:28           -84.37   33.76848  3.590717     00:26:30   \n",
       "\n",
       "    moving_time  \n",
       "0      00:24:33  \n",
       "1      00:21:33  \n",
       "2      00:15:43  \n",
       "3      00:28:27  \n",
       "4      00:09:12  \n",
       "..          ...  \n",
       "306    00:06:03  \n",
       "307    00:22:55  \n",
       "308    00:20:47  \n",
       "309    00:23:03  \n",
       "310    00:24:43  \n",
       "\n",
       "[311 rows x 6 columns]"
      ]
     },
     "execution_count": 97,
     "metadata": {},
     "output_type": "execute_result"
    }
   ],
   "source": [
    "dataset[[\"start_date_local\", \"start_longitude\", \"start_lat\", \"distance\", \"elapsed_time\", \"moving_time\"]]"
   ]
  },
  {
   "cell_type": "code",
   "execution_count": null,
   "metadata": {},
   "outputs": [],
   "source": []
  }
 ],
 "metadata": {
  "kernelspec": {
   "display_name": "Python 3",
   "language": "python",
   "name": "python3"
  },
  "language_info": {
   "codemirror_mode": {
    "name": "ipython",
    "version": 3
   },
   "file_extension": ".py",
   "mimetype": "text/x-python",
   "name": "python",
   "nbconvert_exporter": "python",
   "pygments_lexer": "ipython3",
   "version": "3.6.9"
  }
 },
 "nbformat": 4,
 "nbformat_minor": 2
}
