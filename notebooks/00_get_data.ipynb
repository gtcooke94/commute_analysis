{
 "cells": [
  {
   "cell_type": "code",
   "execution_count": 2,
   "metadata": {
    "scrolled": true
   },
   "outputs": [],
   "source": [
    "# OPTIONAL: Load the \"autoreload\" extension so that code can change\n",
    "%load_ext autoreload\n",
    "\n",
    "# OPTIONAL: always reload modules so that as you change code in src, it gets loaded\n",
    "%autoreload 2\n",
    "from src.data import make_dataset\n",
    "from dotenv import find_dotenv, load_dotenv\n",
    "import os\n",
    "from stravalib.client import Client\n",
    "import time\n",
    "import csv"
   ]
  },
  {
   "cell_type": "code",
   "execution_count": 53,
   "metadata": {},
   "outputs": [
    {
     "name": "stdout",
     "output_type": "stream",
     "text": [
      "https://www.strava.com/oauth/authorize?client_id=22120&redirect_uri=http%3A%2F%2Flocalhost%3A8282%2Fauthorized&approval_prompt=auto&response_type=code&scope=read%2Cactivity%3Aread\n"
     ]
    }
   ],
   "source": [
    "\"\"\"\n",
    "To get data we have to deal with OAuth\n",
    "1. Run this cell\n",
    "2. Click it's output\n",
    "3. Hit authorize\n",
    "4. Copy the \"code\" parameter in the redirect and paste it in the cell below\n",
    "5. Run the cell below\n",
    "6. To refresh, run the cell below that\n",
    "\"\"\"\n",
    "client = Client()\n",
    "authorize_url = client.authorization_url(client_id=22120, redirect_uri='http://localhost:8282/authorized')\n",
    "# Have the user click the authorization URL, a 'code' param will be added to the redirect_uri\n",
    "# .....\n",
    "print(authorize_url)\n"
   ]
  },
  {
   "cell_type": "code",
   "execution_count": 56,
   "metadata": {},
   "outputs": [
    {
     "name": "stdout",
     "output_type": "stream",
     "text": [
      "For 25983534, I now have an access token 963731c1306d483dd0a7ade62496aeb7b3e3868c\n"
     ]
    }
   ],
   "source": [
    "# Extract the code from your webapp response\n",
    "code = \"4f9497b3487b523145a7d9664a7a9e8b50c8c1a0\" # or whatever your framework does\n",
    "token_response = client.exchange_code_for_token(client_id=os.getenv(\"client_id\"), client_secret=os.getenv(\"client_secret\"), code=code)\n",
    "access_token = token_response['access_token']\n",
    "refresh_token = token_response['refresh_token']\n",
    "expires_at = token_response['expires_at']\n",
    "\n",
    "# Now store that short-lived access token somewhere (a database?)\n",
    "client.access_token = access_token\n",
    "# You must also store the refresh token to be used later on to obtain another valid access token \n",
    "# in case the current is already expired\n",
    "client.refresh_token = refresh_token\n",
    "\n",
    "# An access_token is only valid for 6 hours, store expires_at somewhere and\n",
    "# check it before making an API call.\n",
    "client.token_expires_at = expires_at\n",
    " \n",
    "athlete = client.get_athlete()\n",
    "print(\"For {id}, I now have an access token {token}\".format(id=athlete.id, token=access_token))\n",
    "\n"
   ]
  },
  {
   "cell_type": "code",
   "execution_count": null,
   "metadata": {},
   "outputs": [],
   "source": [
    "# ... time passes ...\n",
    "if time.time() > client.token_expires_at:\n",
    "    refresh_response = client.refresh_access_token(client_id=os.getenv(\"client_id\"), client_secret=os.getenv(\"client_secret\"),\n",
    "        refresh_token=client.refresh_token)\n",
    "    access_token = refresh_response['access_token']\n",
    "    refresh_token = refresh_response['refresh_token']\n",
    "    expires_at = refresh_response['expires_at']"
   ]
  },
  {
   "cell_type": "code",
   "execution_count": 82,
   "metadata": {},
   "outputs": [],
   "source": [
    "# Get the data\n",
    "activities = client.get_activities()\n",
    "types = ['time', 'latlng', 'altitude', 'heartrate', 'temp']\n",
    "headers_written = False\n",
    "#stream_types = ['time', 'latlng', 'altitude', 'heartrate', 'temp']\n",
    "stream_types = ['heartrate']\n",
    "w = None\n",
    "with open(os.path.join(\"/home/greg/repos/commute_analysis\", \"data\", \"raw\", 'raw_strava_data.csv'), 'w') as f:\n",
    "    for activity in activities:\n",
    "        streams = client.get_activity_streams(activity.id, types=stream_types, resolution='medium')\n",
    "        temp = activity.to_dict()\n",
    "        for k in types:\n",
    "            if streams and k in streams:\n",
    "                temp[k] = streams[k].data\n",
    "            elif k not in temp:\n",
    "                temp[k] = None\n",
    "        if not headers_written:\n",
    "            w = csv.DictWriter(f, temp.keys())\n",
    "            w.writeheader()\n",
    "            headers_written = True\n",
    "        w.writerow(temp)\n"
   ]
  },
  {
   "cell_type": "code",
   "execution_count": 89,
   "metadata": {},
   "outputs": [
    {
     "name": "stderr",
     "output_type": "stream",
     "text": [
      "/home/greg/.virtualenvs/commute_analysis/lib/python3.6/site-packages/ipykernel_launcher.py:1: PerformanceWarning: \n",
      "your performance may suffer as PyTables will pickle object types that it cannot\n",
      "map directly to c-types [inferred_type->mixed,key->block4_values] [items->['external_id', 'athlete', 'name', 'type', 'start_date', 'timezone', 'start_latlng', 'end_latlng', 'map', 'device_watts', 'from_accepted_tag', 'heartrate']]\n",
      "\n",
      "  \"\"\"Entry point for launching an IPython kernel.\n"
     ]
    }
   ],
   "source": [
    "make_dataset.convert_strava_data()"
   ]
  },
  {
   "cell_type": "code",
   "execution_count": 8,
   "metadata": {},
   "outputs": [],
   "source": [
    "BASE_PATH = \"..\"\n",
    "import pandas as pd"
   ]
  },
  {
   "cell_type": "code",
   "execution_count": 27,
   "metadata": {},
   "outputs": [],
   "source": [
    "make_dataset.convert_data()"
   ]
  },
  {
   "cell_type": "code",
   "execution_count": null,
   "metadata": {},
   "outputs": [],
   "source": []
  }
 ],
 "metadata": {
  "kernelspec": {
   "display_name": "Python 3",
   "language": "python",
   "name": "python3"
  },
  "language_info": {
   "codemirror_mode": {
    "name": "ipython",
    "version": 3
   },
   "file_extension": ".py",
   "mimetype": "text/x-python",
   "name": "python",
   "nbconvert_exporter": "python",
   "pygments_lexer": "ipython3",
   "version": "3.6.9"
  }
 },
 "nbformat": 4,
 "nbformat_minor": 2
}
