{
 "cells": [
  {
   "cell_type": "code",
   "execution_count": 8,
   "metadata": {
    "scrolled": false
   },
   "outputs": [
    {
     "name": "stdout",
     "output_type": "stream",
     "text": [
      "The autoreload extension is already loaded. To reload it, use:\n",
      "  %reload_ext autoreload\n"
     ]
    }
   ],
   "source": [
    "# OPTIONAL: Load the \"autoreload\" extension so that code can change\n",
    "%load_ext autoreload\n",
    "\n",
    "# OPTIONAL: always reload modules so that as you change code in src, it gets loaded\n",
    "%autoreload 2\n",
    "import pandas as pd\n",
    "import matplotlib\n",
    "import matplotlib.pyplot as plt\n",
    "import ast\n",
    "import folium\n",
    "from folium import plugins\n",
    "import polyline\n",
    "import os\n",
    "#from plotly.offline import download_plotlyjs, init_notebook_mode, plot, iplot\n",
    "import numpy as np\n",
    "#from plotly.offline import plotly as py\n",
    "#from plotly.offline import graph_objs as go\n",
    "#import plotly.plotly as py\n",
    "#import plotly.graph_objs as go\n",
    "#init_notebook_mode(connected=True)\n",
    "from src.data import make_dataset\n",
    "from src.visualization import visualize\n",
    "from dotenv import find_dotenv, load_dotenv\n",
    "import os\n",
    "\n",
    "\n",
    "%matplotlib inline\n",
    "width = 10\n",
    "height = 10\n",
    "matplotlib.rcParams['figure.figsize'] = [width, height]\n",
    "matplotlib.rcParams.update({'font.size': 14})\n",
    "\n",
    "# import matplotlib.style\n",
    "# import matplotlib as mpl\n",
    "# mpl.style.use('default')\n",
    "\n",
    "(strava_data, drive_morning, drive_evening) = make_dataset.load_data()\n",
    "\n",
    "# Access data store\n",
    "#strava_data_h5 = pd.read_hdf(os.path.join('..', 'data', 'processed', 'strava_data.h5'))\n",
    "#strava_data_h5 = pd.HDFStore(os.path.join('..', 'data', 'processed', 'strava_data.h5'))\n",
    "\n",
    "\n",
    "# Retrieve data using key\n",
    "#strava_data = strava_data_h5['strava_data']\n",
    "#drive_morning = strava_data_h5['drive_morning']\n",
    "#drive_evening = strava_data_h5['drive_evening']\n",
    "#strava_data_h5.close()"
   ]
  },
  {
   "cell_type": "code",
   "execution_count": 4,
   "metadata": {},
   "outputs": [],
   "source": [
    "def get_start_latlng(mp):\n",
    "    pl = mp['summary_polyline']\n",
    "    if pl:\n",
    "        return(polyline.decode(pl)[0])\n",
    "    \n",
    "def get_end_latlng(mp):\n",
    "    pl = mp['summary_polyline']\n",
    "    if pl:\n",
    "        return(polyline.decode(pl)[-1])"
   ]
  },
  {
   "cell_type": "code",
   "execution_count": null,
   "metadata": {},
   "outputs": [],
   "source": [
    "strava_data['start_latlng'] = strava_data['map'].apply(get_start_latlng)\n",
    "strava_data['end_latlng'] = strava_data['map'].apply(get_end_latlng)\n",
    "strava_data[['start_lat', 'start_lng']] = strava_data['start_latlng'].apply(pd.Series)\n",
    "strava_data[['end_lat', 'end_lng']] = strava_data['end_latlng'].apply(pd.Series)"
   ]
  },
  {
   "cell_type": "code",
   "execution_count": null,
   "metadata": {},
   "outputs": [],
   "source": [
    "morning_mask = strava_data['start_date_local'].dt.hour.isin(range(7, 11))\n",
    "evening_mask = strava_data['start_date_local'].dt.hour.isin(range(14, 20))\n",
    "weekday_mask = strava_data['start_date_local'].dt.weekday.isin(range(0, 5))\n",
    "normal_time_mask = ((strava_data['moving_time'].dt.seconds / 60) > 10) & ((strava_data['moving_time'].dt.seconds / 60) < 30)\n",
    "bike_mask = strava_data['type'] == 'Ride'\n",
    "distance_mask = (strava_data['distance'] > 2.8) & (strava_data['distance'] < 4.7)\n",
    "gtri_start_mask = strava_data['start_lat'] >= 33.781\n",
    "gt_start_mask = (strava_data['start_lat'] <= 33.781) & (strava_data['start_lng'] <= -84.38)\n",
    "gtri_end_mask = strava_data['end_lat'] >= 33.781\n",
    "gt_end_mask = (strava_data['end_lat'] <= 33.781) & (strava_data['start_lng'] <= -84.38)"
   ]
  },
  {
   "cell_type": "code",
   "execution_count": null,
   "metadata": {},
   "outputs": [],
   "source": [
    "def add_from_locations(df):\n",
    "    df['from'] = ''\n",
    "    df['from'] = df['from'].mask(evening_mask & weekday_mask & normal_time_mask & distance_mask & gt_start_mask, 'SC')\n",
    "    df['from'] = df['from'].mask(evening_mask & weekday_mask & normal_time_mask & distance_mask & gtri_start_mask, 'GTRI')\n",
    "    return df\n",
    "\n",
    "def add_to_locations(df):\n",
    "    df['to'] = ''\n",
    "    df['to'] = df['to'].mask(morning_mask & weekday_mask & normal_time_mask & distance_mask & gt_end_mask, 'SC')\n",
    "    df['to'] = df['to'].mask(morning_mask & weekday_mask & normal_time_mask & distance_mask & gtri_end_mask, 'GTRI')\n",
    "    return df"
   ]
  },
  {
   "cell_type": "code",
   "execution_count": null,
   "metadata": {},
   "outputs": [],
   "source": [
    "def heartrate_conversion(df):\n",
    "    mask = ~pd.isnull(df['heartrate'])\n",
    "    df.loc[mask, 'heartrate'] = (df[mask]['heartrate']).apply(ast.literal_eval)\n",
    "    return df"
   ]
  },
  {
   "cell_type": "code",
   "execution_count": null,
   "metadata": {},
   "outputs": [],
   "source": [
    "strava_data = heartrate_conversion(strava_data)"
   ]
  },
  {
   "cell_type": "code",
   "execution_count": null,
   "metadata": {},
   "outputs": [],
   "source": [
    "morning_commutes = strava_data[morning_mask & weekday_mask & normal_time_mask & distance_mask & (gtri_end_mask | gt_end_mask)]\n",
    "evening_commutes = strava_data[evening_mask & weekday_mask & normal_time_mask & distance_mask & (gtri_start_mask | gt_end_mask)]"
   ]
  },
  {
   "cell_type": "code",
   "execution_count": null,
   "metadata": {},
   "outputs": [],
   "source": [
    "# Add columns to strava_data for the from and to strings for commutes\n",
    "# This is duplication of information, but it makes it way easier for me to explore so it doesn't seem that horrible\n",
    "strava_data = add_from_locations(strava_data)\n",
    "strava_data = add_to_locations(strava_data)"
   ]
  },
  {
   "cell_type": "code",
   "execution_count": null,
   "metadata": {},
   "outputs": [],
   "source": [
    "to_plot = visualize.prepare_for_plotting(morning_commutes)\n",
    "plt.subplot(221)\n",
    "plt.scatter(to_plot['start_date_local'].dt.to_pydatetime(), to_plot['moving_time'])\n",
    "plt.subplot(222)\n",
    "plt.scatter(to_plot['start_date_local'].dt.to_pydatetime(), to_plot['elapsed_time'])\n",
    "plt.subplot(223)\n",
    "plt.scatter(to_plot['start_date_local'].dt.to_pydatetime(), to_plot['moving_time'], color='C0')\n",
    "plt.scatter(to_plot['start_date_local'].dt.to_pydatetime(), to_plot['elapsed_time'], color='C1')\n",
    "\n",
    "\n",
    "plt.show()"
   ]
  },
  {
   "cell_type": "code",
   "execution_count": null,
   "metadata": {},
   "outputs": [],
   "source": [
    "to_plot = visualize.prepare_for_plotting(morning_commutes)\n",
    "to_plot[['moving_time', 'elapsed_time']].plot.box()\n",
    "plt.show()\n"
   ]
  },
  {
   "cell_type": "code",
   "execution_count": null,
   "metadata": {
    "scrolled": false
   },
   "outputs": [],
   "source": [
    "to_plot = visualize.prepare_for_plotting(evening_commutes)\n",
    "to_plot_car = prepare_for_plotting(drive_evening.dropna())\n",
    "plt.subplot(221)\n",
    "plt.scatter(to_plot['start_date_local'].dt.to_pydatetime(), to_plot['moving_time'])\n",
    "plt.subplot(222)\n",
    "plt.scatter(to_plot['start_date_local'].dt.to_pydatetime(), to_plot['elapsed_time'])\n",
    "plt.subplot(223)\n",
    "plt.scatter(to_plot['start_date_local'].dt.to_pydatetime(), to_plot['moving_time'], color='C0')\n",
    "plt.scatter(to_plot['start_date_local'].dt.to_pydatetime(), to_plot['elapsed_time'], color='C1')\n",
    "plt.scatter(to_plot_car['start_date_local'].dt.to_pydatetime(), to_plot_car['elapsed_time'], color='C2')\n",
    "plt.legend(['Bicycle Moving Time', 'Bicycle Elapsed Time', 'Driving Elapsed Time'])\n",
    "\n",
    "plt.show()"
   ]
  },
  {
   "cell_type": "code",
   "execution_count": null,
   "metadata": {
    "scrolled": false
   },
   "outputs": [],
   "source": [
    "# Creating a nice plot\n",
    "fig, axes = plt.subplots(nrows=1, ncols=2, figsize=(20, 10), sharey=True)\n",
    "\n",
    "axes[0].scatter(to_plot['start_date_local'].dt.to_pydatetime(), to_plot['elapsed_time'], color='C0')\n",
    "axes[0].scatter(to_plot_car['start_date_local'].dt.to_pydatetime(), to_plot_car['elapsed_time'], color='C1')\n",
    "axes[0].legend(['Biking', 'Driving'], bbox_to_anchor=[.79,.97])\n",
    "to_plot_bike = to_plot\n",
    "to_plot['bike_moving_time'] = to_plot_bike['moving_time']\n",
    "to_plot['Biking'] = to_plot_bike['elapsed_time']\n",
    "to_plot['Driving'] = to_plot_car['elapsed_time']\n",
    "to_plot[['Biking', 'Driving']].plot.box(ax=axes[1], showfliers=False)\n",
    "fig.text(0.09, 0.5, 'Time (minutes)', ha='center', va='center', rotation='vertical')\n",
    "axes[0].set_xlabel('Date')\n",
    "fig.suptitle('Commuting by Bike vs. Car', fontsize = 20)\n",
    "for ax in axes:\n",
    "    ax.spines[\"top\"].set_visible(False)\n",
    "    ax.spines[\"bottom\"].set_visible(False)\n",
    "    ax.spines[\"right\"].set_visible(False)\n",
    "    ax.spines[\"left\"].set_visible(False)\n",
    "#plt.yticks(range(0, 91, 10), [str(x) + \"%\" for x in range(0, 91, 10)], fontsize=14)\n",
    "#plt.xticks(fontsize=14)\n",
    "for y in range(10, 36, 5):\n",
    "    for ax in axes:\n",
    "        ax.tick_params(axis=\"both\", which=\"both\", bottom=False, top=False,\n",
    "        labelbottom=True, left=False, right=False, labelleft=True)\n",
    "        ax.axhline(y=y, linestyle='--', lw=0.5, color='black', alpha=0.5)\n",
    "        #ax.plot_date([to_plot_car['start_date_local'].min(), to_plot_bike['start_date_local'].max()], [y, y],  \"--\", lw=0.5, color=\"black\", alpha=0.9)\n",
    "axes[0].tick_params(axis='both', which=\"both\", bottom=True)\n",
    "axes[1].tick_params(axis='both', labelleft=False)\n",
    "# plt.savefig(\"figures/to_post.png\", bbox_inches=\"tight\")\n",
    "plt.show()\n"
   ]
  },
  {
   "cell_type": "code",
   "execution_count": null,
   "metadata": {},
   "outputs": [],
   "source": [
    "to_plot_bike = visualize.prepare_for_plotting(evening_commutes)\n",
    "to_plot_car = visualize.prepare_for_plotting(drive_evening)\n",
    "to_plot = pd.DataFrame()\n",
    "to_plot['bike_moving_time'] = to_plot_bike['moving_time']\n",
    "to_plot['bike_elapsed_time'] = to_plot_bike['elapsed_time']\n",
    "to_plot['car_elapsed_time'] = to_plot_car['elapsed_time']\n",
    "\n",
    "to_plot[['bike_moving_time', 'bike_elapsed_time', 'car_elapsed_time']].plot.box()\n",
    "plt.show()\n"
   ]
  },
  {
   "cell_type": "code",
   "execution_count": null,
   "metadata": {
    "scrolled": false
   },
   "outputs": [],
   "source": [
    "pl = polyline.decode(strava_data['map'][1][\"summary_polyline\"])\n",
    "m = folium.Map(map_lat_lng, zoom_start=14)\n",
    "bike_path = folium.PolyLine(pl).add_to(m)\n",
    "m\n"
   ]
  },
  {
   "cell_type": "code",
   "execution_count": null,
   "metadata": {},
   "outputs": [],
   "source": [
    "gt_lat_lng = (33.777351, -84.396541)\n",
    "map_lat_lng = (33.775734, -84.381476)\n",
    "visualize.plot_polylines(evening_commutes)"
   ]
  },
  {
   "cell_type": "code",
   "execution_count": null,
   "metadata": {},
   "outputs": [],
   "source": [
    "m = folium.Map(map_lat_lng, zoom_start=14)\n",
    "end_latlng = []\n",
    "for (index, row) in evening_commutes.iterrows():\n",
    "    if (row['map']['summary_polyline']):\n",
    "        pl = polyline.decode(row['map']['summary_polyline'])\n",
    "        end_latlng.append(pl[1])\n",
    "temp = list(zip(*end_latlng))\n",
    "end_lat = temp[0]\n",
    "end_lng = temp[1]\n",
    "plt.scatter(end_lng, end_lat)\n",
    "hline = [33.781 for i in range(0, len(end_lng))]\n",
    "vline = [-84.38 for i in range(0, len(end_lat))]\n",
    "plt.plot(end_lng, hline)\n",
    "plt.plot(vline, end_lat)"
   ]
  },
  {
   "cell_type": "code",
   "execution_count": null,
   "metadata": {
    "scrolled": true
   },
   "outputs": [],
   "source": [
    "evening_commutes_gtri = strava_data[evening_mask & weekday_mask & normal_time_mask & distance_mask & gtri_start_mask]\n",
    "evening_commutes_gt = strava_data[evening_mask & weekday_mask & normal_time_mask & distance_mask & gt_start_mask]"
   ]
  },
  {
   "cell_type": "code",
   "execution_count": null,
   "metadata": {},
   "outputs": [],
   "source": [
    "temp= 'Index: ' + (pd.Series(to_plot.index)).apply(str)"
   ]
  },
  {
   "cell_type": "code",
   "execution_count": null,
   "metadata": {
    "scrolled": false
   },
   "outputs": [],
   "source": [
    "# Index printing issues: https://stackoverflow.com/questions/32801806/pandas-concat-ignore-index-doesnt-work\n",
    "to_plot = visualize.prepare_for_plotting(evening_commutes)\n",
    "#plt.scatter(to_plot['start_date_local'].dt.to_pydatetime(), to_plot['moving_time'])\n",
    "#to_plot['index_str'] = 'Index: ' + pd.Series(to_plot.index).apply(str)\n",
    "data = [\n",
    "    go.Scatter(\n",
    "        x = to_plot.start_date_local.dt.to_pydatetime(),\n",
    "        y = to_plot.elapsed_time,\n",
    "        hoverinfo = 'text',\n",
    "        marker = dict(\n",
    "            color = 'green'\n",
    "        ),\n",
    "        showlegend = False,\n",
    "        mode = 'markers',\n",
    "        text = to_plot.index\n",
    "    )\n",
    "]\n",
    "\n",
    "layout = go.Layout(\n",
    "    title = \"Bike Evening Commutes\",\n",
    "    titlefont = dict(\n",
    "        size = 10\n",
    "    ),\n",
    "    xaxis = dict(\n",
    "        zeroline = True\n",
    "    ),\n",
    "    yaxis = dict(\n",
    "    )\n",
    ")\n",
    "\n",
    "\n",
    "\n",
    "fig = {\n",
    "    'data': [\n",
    "        {\n",
    "            'x': to_plot.start_date_local.dt.to_pydatetime(),\n",
    "            'y': to_plot.elapsed_time,\n",
    "            'mode': 'markers',\n",
    "            'name': 'Biking',\n",
    "            'text': to_plot.index\n",
    "        }\n",
    "    ]\n",
    "}\n",
    "\n",
    "fig2 = go.Figure(data=data, layout=layout)\n",
    "# Plot and embed in ipython notebook!\n",
    "iplot(fig2, filename='basic-scatter')\n",
    "\n",
    "# or plot with: plot_url = py.plot(data, filename='basic-line')"
   ]
  },
  {
   "cell_type": "code",
   "execution_count": null,
   "metadata": {
    "scrolled": true
   },
   "outputs": [],
   "source": [
    "to_plot['index'].head()"
   ]
  },
  {
   "cell_type": "code",
   "execution_count": null,
   "metadata": {},
   "outputs": [],
   "source": [
    "'Prepend' + to_plot['index']"
   ]
  },
  {
   "cell_type": "code",
   "execution_count": null,
   "metadata": {},
   "outputs": [],
   "source": [
    "data = [\n",
    "    go.Scatter(\n",
    "        'x': to_plot.start_date_local.dt.to_pydatetime(),\n",
    "        'y': to_plot.elapsed_time,\n",
    "        hoverinfo = 'y',\n",
    "        marker = dict(\n",
    "            color = 'green'\n",
    "        ),\n",
    "        showlegend = False\n",
    "    )\n",
    "]\n",
    "\n",
    "layout = go.Layout(\n",
    "    title = \"Set hover text formatting<br><a href= https://github.com/d3/d3-time-format/blob/master/README.md#locale_format>https://github.com/d3/d3-time-format/blob/master/README.md#locale_format</a>\",\n",
    "    titlefont = dict(\n",
    "        size = 10\n",
    "    ),\n",
    "    xaxis = dict(\n",
    "        zeroline = False\n",
    "    ),\n",
    "    yaxis = dict(\n",
    "        hoverformat = '.2f'\n",
    "    )\n",
    ")\n",
    "\n",
    "fig = go.Figure(data=data,layout=layout)\n",
    "py.iplot(fig, filename = \"format-hover-text\")"
   ]
  },
  {
   "cell_type": "code",
   "execution_count": null,
   "metadata": {},
   "outputs": [],
   "source": [
    "fig = {\n",
    "    'data': [\n",
    "  \t\t{\n",
    "  \t\t\t'x': df2007.gdpPercap, \n",
    "        \t'y': df2007.lifeExp, \n",
    "        \t'text': df2007.country, \n",
    "        \t'mode': 'markers', \n",
    "        \t'name': '2007'},\n",
    "        {\n",
    "        \t'x': df1952.gdpPercap, \n",
    "        \t'y': df1952.lifeExp, \n",
    "        \t'text': df1952.country, \n",
    "        \t'mode': 'markers', \n",
    "        \t'name': '1952'}\n",
    "    ],\n",
    "    'layout': {\n",
    "        'xaxis': {'title': 'GDP per Capita', 'type': 'log'},\n",
    "        'yaxis': {'title': \"Life Expectancy\"}\n",
    "    }\n",
    "}"
   ]
  },
  {
   "cell_type": "code",
   "execution_count": null,
   "metadata": {
    "scrolled": true
   },
   "outputs": [],
   "source": [
    "# https://markhneedham.com/blog/2017/04/29/leaflet-strava-polylines-osm/\n",
    "# https://dzone.com/articles/strava-calculating-the-similarity-of-two-runs\n",
    "# http://bl.ocks.org/matt-leach/5336dc8249cf4401fc0f6b31743202e5\n",
    "# http://andykee.com/visualizing-strava-tracks-with-python.html\n",
    "# https://gis.stackexchange.com/questions/42224/creating-polyline-based-heatmap-from-gps-tracks\n",
    "# https://yizeng.me/2017/01/11/get-a-strava-api-access-token-with-write-permission/"
   ]
  },
  {
   "cell_type": "code",
   "execution_count": null,
   "metadata": {},
   "outputs": [],
   "source": []
  },
  {
   "cell_type": "code",
   "execution_count": null,
   "metadata": {},
   "outputs": [],
   "source": []
  }
 ],
 "metadata": {
  "kernelspec": {
   "display_name": "Python 3",
   "language": "python",
   "name": "python3"
  },
  "language_info": {
   "codemirror_mode": {
    "name": "ipython",
    "version": 3
   },
   "file_extension": ".py",
   "mimetype": "text/x-python",
   "name": "python",
   "nbconvert_exporter": "python",
   "pygments_lexer": "ipython3",
   "version": "3.6.6"
  }
 },
 "nbformat": 4,
 "nbformat_minor": 2
}
